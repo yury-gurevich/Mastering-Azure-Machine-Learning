{
 "cells": [
  {
   "cell_type": "code",
   "execution_count": 1,
   "metadata": {},
   "outputs": [],
   "source": [
    "import pandas as pd"
   ]
  },
  {
   "cell_type": "code",
   "execution_count": 2,
   "metadata": {},
   "outputs": [
    {
     "data": {
      "text/html": [
       "<div>\n",
       "<style scoped>\n",
       "    .dataframe tbody tr th:only-of-type {\n",
       "        vertical-align: middle;\n",
       "    }\n",
       "\n",
       "    .dataframe tbody tr th {\n",
       "        vertical-align: top;\n",
       "    }\n",
       "\n",
       "    .dataframe thead th {\n",
       "        text-align: right;\n",
       "    }\n",
       "</style>\n",
       "<table border=\"1\" class=\"dataframe\">\n",
       "  <thead>\n",
       "    <tr style=\"text-align: right;\">\n",
       "      <th></th>\n",
       "      <th>PassengerId</th>\n",
       "      <th>Survived</th>\n",
       "      <th>Pclass</th>\n",
       "      <th>Name</th>\n",
       "      <th>Sex</th>\n",
       "      <th>Age</th>\n",
       "      <th>SibSp</th>\n",
       "      <th>Parch</th>\n",
       "      <th>Ticket</th>\n",
       "      <th>Fare</th>\n",
       "      <th>Cabin</th>\n",
       "      <th>Embarked</th>\n",
       "    </tr>\n",
       "  </thead>\n",
       "  <tbody>\n",
       "    <tr>\n",
       "      <th>0</th>\n",
       "      <td>1</td>\n",
       "      <td>0</td>\n",
       "      <td>3</td>\n",
       "      <td>Braund, Mr. Owen Harris</td>\n",
       "      <td>male</td>\n",
       "      <td>22.0</td>\n",
       "      <td>1</td>\n",
       "      <td>0</td>\n",
       "      <td>A/5 21171</td>\n",
       "      <td>7.2500</td>\n",
       "      <td>NaN</td>\n",
       "      <td>S</td>\n",
       "    </tr>\n",
       "    <tr>\n",
       "      <th>1</th>\n",
       "      <td>2</td>\n",
       "      <td>1</td>\n",
       "      <td>1</td>\n",
       "      <td>Cumings, Mrs. John Bradley (Florence Briggs Th...</td>\n",
       "      <td>female</td>\n",
       "      <td>38.0</td>\n",
       "      <td>1</td>\n",
       "      <td>0</td>\n",
       "      <td>PC 17599</td>\n",
       "      <td>71.2833</td>\n",
       "      <td>C85</td>\n",
       "      <td>C</td>\n",
       "    </tr>\n",
       "    <tr>\n",
       "      <th>2</th>\n",
       "      <td>3</td>\n",
       "      <td>1</td>\n",
       "      <td>3</td>\n",
       "      <td>Heikkinen, Miss. Laina</td>\n",
       "      <td>female</td>\n",
       "      <td>26.0</td>\n",
       "      <td>0</td>\n",
       "      <td>0</td>\n",
       "      <td>STON/O2. 3101282</td>\n",
       "      <td>7.9250</td>\n",
       "      <td>NaN</td>\n",
       "      <td>S</td>\n",
       "    </tr>\n",
       "    <tr>\n",
       "      <th>3</th>\n",
       "      <td>4</td>\n",
       "      <td>1</td>\n",
       "      <td>1</td>\n",
       "      <td>Futrelle, Mrs. Jacques Heath (Lily May Peel)</td>\n",
       "      <td>female</td>\n",
       "      <td>35.0</td>\n",
       "      <td>1</td>\n",
       "      <td>0</td>\n",
       "      <td>113803</td>\n",
       "      <td>53.1000</td>\n",
       "      <td>C123</td>\n",
       "      <td>S</td>\n",
       "    </tr>\n",
       "    <tr>\n",
       "      <th>4</th>\n",
       "      <td>5</td>\n",
       "      <td>0</td>\n",
       "      <td>3</td>\n",
       "      <td>Allen, Mr. William Henry</td>\n",
       "      <td>male</td>\n",
       "      <td>35.0</td>\n",
       "      <td>0</td>\n",
       "      <td>0</td>\n",
       "      <td>373450</td>\n",
       "      <td>8.0500</td>\n",
       "      <td>NaN</td>\n",
       "      <td>S</td>\n",
       "    </tr>\n",
       "  </tbody>\n",
       "</table>\n",
       "</div>"
      ],
      "text/plain": [
       "   PassengerId  Survived  Pclass  \\\n",
       "0            1         0       3   \n",
       "1            2         1       1   \n",
       "2            3         1       3   \n",
       "3            4         1       1   \n",
       "4            5         0       3   \n",
       "\n",
       "                                                Name     Sex   Age  SibSp  \\\n",
       "0                            Braund, Mr. Owen Harris    male  22.0      1   \n",
       "1  Cumings, Mrs. John Bradley (Florence Briggs Th...  female  38.0      1   \n",
       "2                             Heikkinen, Miss. Laina  female  26.0      0   \n",
       "3       Futrelle, Mrs. Jacques Heath (Lily May Peel)  female  35.0      1   \n",
       "4                           Allen, Mr. William Henry    male  35.0      0   \n",
       "\n",
       "   Parch            Ticket     Fare Cabin Embarked  \n",
       "0      0         A/5 21171   7.2500   NaN        S  \n",
       "1      0          PC 17599  71.2833   C85        C  \n",
       "2      0  STON/O2. 3101282   7.9250   NaN        S  \n",
       "3      0            113803  53.1000  C123        S  \n",
       "4      0            373450   8.0500   NaN        S  "
      ]
     },
     "execution_count": 2,
     "metadata": {},
     "output_type": "execute_result"
    }
   ],
   "source": [
    "df = pd.read_csv('titanic/train.csv')\n",
    "df.head()"
   ]
  },
  {
   "cell_type": "code",
   "execution_count": 3,
   "metadata": {},
   "outputs": [],
   "source": [
    "df = df.drop_duplicates()"
   ]
  },
  {
   "cell_type": "code",
   "execution_count": 4,
   "metadata": {},
   "outputs": [],
   "source": [
    "train = pd.get_dummies(df, columns=[\"Sex\",\"Embarked\",\"Cabin\"], prefix=[\"Sex\",\"Emb\",\"Cabin\"], drop_first=True)\n",
    "train = train.fillna(0)\n",
    "X_train = train.drop([\"Survived\",\"PassengerId\",\"Name\",\"Ticket\"],axis=1).values\n",
    "y_train = train[\"Survived\"].values"
   ]
  },
  {
   "cell_type": "code",
   "execution_count": 5,
   "metadata": {},
   "outputs": [],
   "source": [
    "from sklearn.preprocessing import StandardScaler\n",
    "X_train = StandardScaler().fit_transform(X_train)"
   ]
  },
  {
   "cell_type": "code",
   "execution_count": 6,
   "metadata": {},
   "outputs": [
    {
     "data": {
      "text/plain": [
       "(891, 154)"
      ]
     },
     "execution_count": 6,
     "metadata": {},
     "output_type": "execute_result"
    }
   ],
   "source": [
    "X_train.shape"
   ]
  },
  {
   "cell_type": "code",
   "execution_count": 7,
   "metadata": {},
   "outputs": [
    {
     "name": "stderr",
     "output_type": "stream",
     "text": [
      "Using TensorFlow backend.\n"
     ]
    },
    {
     "name": "stdout",
     "output_type": "stream",
     "text": [
      "Model: \"sequential_1\"\n",
      "_________________________________________________________________\n",
      "Layer (type)                 Output Shape              Param #   \n",
      "=================================================================\n",
      "dense_1 (Dense)              (None, 18)                2790      \n",
      "_________________________________________________________________\n",
      "dropout_1 (Dropout)          (None, 18)                0         \n",
      "_________________________________________________________________\n",
      "dense_2 (Dense)              (None, 60)                1140      \n",
      "_________________________________________________________________\n",
      "dropout_2 (Dropout)          (None, 60)                0         \n",
      "_________________________________________________________________\n",
      "dense_3 (Dense)              (None, 1)                 61        \n",
      "=================================================================\n",
      "Total params: 3,991\n",
      "Trainable params: 3,991\n",
      "Non-trainable params: 0\n",
      "_________________________________________________________________\n"
     ]
    }
   ],
   "source": [
    "import keras\n",
    "from keras.models import Sequential\n",
    "from keras.layers import Dense, Activation, Dropout\n",
    "from keras.optimizers import SGD\n",
    "\n",
    "model = Sequential()\n",
    "\n",
    "model.add(Dense(18, activation='relu', input_dim=154, kernel_initializer='uniform'))\n",
    "model.add(Dropout(0.50))\n",
    "model.add(Dense(60, kernel_initializer='uniform', activation='relu'))\n",
    "model.add(Dropout(0.50))\n",
    "model.add(Dense(1, kernel_initializer='uniform', activation='sigmoid'))\n",
    "\n",
    "model.summary()"
   ]
  },
  {
   "cell_type": "code",
   "execution_count": 8,
   "metadata": {},
   "outputs": [
    {
     "name": "stdout",
     "output_type": "stream",
     "text": [
      "Epoch 1/30\n",
      "891/891 [==============================] - 0s 260us/step - loss: 0.6898 - accuracy: 0.6128\n",
      "Epoch 2/30\n",
      "891/891 [==============================] - 0s 22us/step - loss: 0.6791 - accuracy: 0.6162\n",
      "Epoch 3/30\n",
      "891/891 [==============================] - 0s 21us/step - loss: 0.6709 - accuracy: 0.6162\n",
      "Epoch 4/30\n",
      "891/891 [==============================] - 0s 21us/step - loss: 0.6676 - accuracy: 0.6162\n",
      "Epoch 5/30\n",
      "891/891 [==============================] - 0s 22us/step - loss: 0.6651 - accuracy: 0.6162\n",
      "Epoch 6/30\n",
      "891/891 [==============================] - 0s 22us/step - loss: 0.6639 - accuracy: 0.6162\n",
      "Epoch 7/30\n",
      "891/891 [==============================] - 0s 21us/step - loss: 0.6634 - accuracy: 0.6162\n",
      "Epoch 8/30\n",
      "891/891 [==============================] - 0s 20us/step - loss: 0.6615 - accuracy: 0.6162\n",
      "Epoch 9/30\n",
      "891/891 [==============================] - 0s 20us/step - loss: 0.6604 - accuracy: 0.6162\n",
      "Epoch 10/30\n",
      "891/891 [==============================] - 0s 20us/step - loss: 0.6579 - accuracy: 0.6162\n",
      "Epoch 11/30\n",
      "891/891 [==============================] - 0s 21us/step - loss: 0.6560 - accuracy: 0.6162\n",
      "Epoch 12/30\n",
      "891/891 [==============================] - 0s 21us/step - loss: 0.6522 - accuracy: 0.6173\n",
      "Epoch 13/30\n",
      "891/891 [==============================] - 0s 20us/step - loss: 0.6477 - accuracy: 0.6251\n",
      "Epoch 14/30\n",
      "891/891 [==============================] - 0s 21us/step - loss: 0.6423 - accuracy: 0.6375\n",
      "Epoch 15/30\n",
      "891/891 [==============================] - 0s 22us/step - loss: 0.6307 - accuracy: 0.6599\n",
      "Epoch 16/30\n",
      "891/891 [==============================] - 0s 22us/step - loss: 0.6169 - accuracy: 0.6779\n",
      "Epoch 17/30\n",
      "891/891 [==============================] - 0s 21us/step - loss: 0.5975 - accuracy: 0.7059\n",
      "Epoch 18/30\n",
      "891/891 [==============================] - 0s 21us/step - loss: 0.5725 - accuracy: 0.7273\n",
      "Epoch 19/30\n",
      "891/891 [==============================] - 0s 21us/step - loss: 0.5492 - accuracy: 0.7475\n",
      "Epoch 20/30\n",
      "891/891 [==============================] - 0s 21us/step - loss: 0.5226 - accuracy: 0.7654\n",
      "Epoch 21/30\n",
      "891/891 [==============================] - 0s 21us/step - loss: 0.4941 - accuracy: 0.7924\n",
      "Epoch 22/30\n",
      "891/891 [==============================] - 0s 20us/step - loss: 0.4596 - accuracy: 0.8227\n",
      "Epoch 23/30\n",
      "891/891 [==============================] - 0s 21us/step - loss: 0.4383 - accuracy: 0.8451\n",
      "Epoch 24/30\n",
      "891/891 [==============================] - 0s 21us/step - loss: 0.4246 - accuracy: 0.8373\n",
      "Epoch 25/30\n",
      "891/891 [==============================] - 0s 21us/step - loss: 0.4223 - accuracy: 0.8238\n",
      "Epoch 26/30\n",
      "891/891 [==============================] - 0s 21us/step - loss: 0.4172 - accuracy: 0.8238\n",
      "Epoch 27/30\n",
      "891/891 [==============================] - 0s 21us/step - loss: 0.4068 - accuracy: 0.8316\n",
      "Epoch 28/30\n",
      "891/891 [==============================] - 0s 21us/step - loss: 0.4033 - accuracy: 0.8373\n",
      "Epoch 29/30\n",
      "891/891 [==============================] - 0s 20us/step - loss: 0.3916 - accuracy: 0.8462\n",
      "Epoch 30/30\n",
      "891/891 [==============================] - 0s 21us/step - loss: 0.3847 - accuracy: 0.8485\n"
     ]
    },
    {
     "data": {
      "text/plain": [
       "<keras.callbacks.callbacks.History at 0x7f2afe171d68>"
      ]
     },
     "execution_count": 8,
     "metadata": {},
     "output_type": "execute_result"
    }
   ],
   "source": [
    "#Creating an Stochastic Gradient Descent\n",
    "sgd = SGD(lr = 0.01, momentum = 0.9)\n",
    "\n",
    "# Compiling our model\n",
    "model.compile(optimizer = sgd,  loss = 'binary_crossentropy',  metrics = ['accuracy'])\n",
    "\n",
    "# Fitting the ANN to the Training set\n",
    "model.fit(X_train, y_train, batch_size = 60, epochs = 30, verbose=1)"
   ]
  },
  {
   "cell_type": "code",
   "execution_count": 9,
   "metadata": {},
   "outputs": [
    {
     "name": "stdout",
     "output_type": "stream",
     "text": [
      "891/891 [==============================] - 0s 62us/step\n",
      "accuracy: 86.08%\n"
     ]
    }
   ],
   "source": [
    "scores = model.evaluate(X_train, y_train, batch_size=30)\n",
    "print(\"%s: %.2f%%\" % (model.metrics_names[1], scores[1]*100))"
   ]
  },
  {
   "cell_type": "code",
   "execution_count": 10,
   "metadata": {},
   "outputs": [
    {
     "data": {
      "text/plain": [
       "154"
      ]
     },
     "execution_count": 10,
     "metadata": {},
     "output_type": "execute_result"
    }
   ],
   "source": [
    "X_train.shape[1]"
   ]
  }
 ],
 "metadata": {
  "kernelspec": {
   "display_name": "Python 3.6 - AzureML",
   "language": "python",
   "name": "python3-azureml"
  },
  "language_info": {
   "codemirror_mode": {
    "name": "ipython",
    "version": 3
   },
   "file_extension": ".py",
   "mimetype": "text/x-python",
   "name": "python",
   "nbconvert_exporter": "python",
   "pygments_lexer": "ipython3",
   "version": "3.6.9"
  }
 },
 "nbformat": 4,
 "nbformat_minor": 4
}
