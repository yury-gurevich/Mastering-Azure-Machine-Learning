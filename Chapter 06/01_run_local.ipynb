{
 "cells": [
  {
   "cell_type": "code",
   "execution_count": 1,
   "metadata": {},
   "outputs": [],
   "source": [
    "import pandas as pd\n",
    "import numpy as np\n",
    "import matplotlib.pyplot as plt\n",
    "import lightgbm as lgbm\n",
    "from sklearn.model_selection import train_test_split\n",
    "from sklearn.preprocessing import LabelEncoder\n",
    "from sklearn.metrics import accuracy_score, recall_score, precision_score, f1_score\n",
    "%matplotlib inline"
   ]
  },
  {
   "cell_type": "code",
   "execution_count": 2,
   "metadata": {},
   "outputs": [],
   "source": [
    "df = pd.read_csv('data/train.csv')"
   ]
  },
  {
   "cell_type": "code",
   "execution_count": 3,
   "metadata": {},
   "outputs": [],
   "source": [
    "from azureml.core import Workspace, Experiment\n",
    "from azureml.core.authentication import AzureCliAuthentication\n",
    "\n",
    "# Experiment name\n",
    "exp_name = \"titanic-lgbm\"\n",
    "\n",
    "# Configure experiment\n",
    "ws = Workspace.from_config()\n",
    "exp = Experiment(workspace=ws, name=exp_name)"
   ]
  },
  {
   "cell_type": "code",
   "execution_count": 4,
   "metadata": {},
   "outputs": [],
   "source": [
    "df.drop(['PassengerId'], axis=1, inplace=True)\n",
    "\n",
    "# 'Embarked' is stored as letters, so fit a label encoder to the train set to use in the loop\n",
    "embarked_encoder = LabelEncoder()\n",
    "embarked_encoder.fit(df['Embarked'].fillna('Null'))\n",
    " \n",
    "# Record anyone travelling alone\n",
    "df['Alone'] = (df['SibSp'] == 0) & (df['Parch'] == 0)\n",
    "\n",
    "# Transform 'Embarked'\n",
    "df['Embarked'].fillna('Null', inplace=True)\n",
    "df['Embarked'] = embarked_encoder.transform(df['Embarked'])\n",
    "\n",
    "# Transform 'Sex'\n",
    "df.loc[df['Sex'] == 'female','Sex'] = 0\n",
    "df.loc[df['Sex'] == 'male','Sex'] = 1\n",
    "df['Sex'] = df['Sex'].astype('int8')\n",
    "\n",
    "# Drop features that seem unusable. Save passenger ids if test\n",
    "df.drop(['Name', 'Ticket', 'Cabin'], axis=1, inplace=True)"
   ]
  },
  {
   "cell_type": "code",
   "execution_count": 5,
   "metadata": {},
   "outputs": [],
   "source": [
    "# Separate the label\n",
    "y = df.pop('Survived')"
   ]
  },
  {
   "cell_type": "code",
   "execution_count": 6,
   "metadata": {},
   "outputs": [
    {
     "data": {
      "text/html": [
       "<div>\n",
       "<style scoped>\n",
       "    .dataframe tbody tr th:only-of-type {\n",
       "        vertical-align: middle;\n",
       "    }\n",
       "\n",
       "    .dataframe tbody tr th {\n",
       "        vertical-align: top;\n",
       "    }\n",
       "\n",
       "    .dataframe thead th {\n",
       "        text-align: right;\n",
       "    }\n",
       "</style>\n",
       "<table border=\"1\" class=\"dataframe\">\n",
       "  <thead>\n",
       "    <tr style=\"text-align: right;\">\n",
       "      <th></th>\n",
       "      <th>Pclass</th>\n",
       "      <th>Sex</th>\n",
       "      <th>Age</th>\n",
       "      <th>SibSp</th>\n",
       "      <th>Parch</th>\n",
       "      <th>Fare</th>\n",
       "      <th>Embarked</th>\n",
       "      <th>Alone</th>\n",
       "    </tr>\n",
       "  </thead>\n",
       "  <tbody>\n",
       "    <tr>\n",
       "      <th>0</th>\n",
       "      <td>3</td>\n",
       "      <td>1</td>\n",
       "      <td>22.0</td>\n",
       "      <td>1</td>\n",
       "      <td>0</td>\n",
       "      <td>7.2500</td>\n",
       "      <td>3</td>\n",
       "      <td>False</td>\n",
       "    </tr>\n",
       "    <tr>\n",
       "      <th>1</th>\n",
       "      <td>1</td>\n",
       "      <td>0</td>\n",
       "      <td>38.0</td>\n",
       "      <td>1</td>\n",
       "      <td>0</td>\n",
       "      <td>71.2833</td>\n",
       "      <td>0</td>\n",
       "      <td>False</td>\n",
       "    </tr>\n",
       "    <tr>\n",
       "      <th>2</th>\n",
       "      <td>3</td>\n",
       "      <td>0</td>\n",
       "      <td>26.0</td>\n",
       "      <td>0</td>\n",
       "      <td>0</td>\n",
       "      <td>7.9250</td>\n",
       "      <td>3</td>\n",
       "      <td>True</td>\n",
       "    </tr>\n",
       "    <tr>\n",
       "      <th>3</th>\n",
       "      <td>1</td>\n",
       "      <td>0</td>\n",
       "      <td>35.0</td>\n",
       "      <td>1</td>\n",
       "      <td>0</td>\n",
       "      <td>53.1000</td>\n",
       "      <td>3</td>\n",
       "      <td>False</td>\n",
       "    </tr>\n",
       "    <tr>\n",
       "      <th>4</th>\n",
       "      <td>3</td>\n",
       "      <td>1</td>\n",
       "      <td>35.0</td>\n",
       "      <td>0</td>\n",
       "      <td>0</td>\n",
       "      <td>8.0500</td>\n",
       "      <td>3</td>\n",
       "      <td>True</td>\n",
       "    </tr>\n",
       "  </tbody>\n",
       "</table>\n",
       "</div>"
      ],
      "text/plain": [
       "   Pclass  Sex   Age  SibSp  Parch     Fare  Embarked  Alone\n",
       "0       3    1  22.0      1      0   7.2500         3  False\n",
       "1       1    0  38.0      1      0  71.2833         0  False\n",
       "2       3    0  26.0      0      0   7.9250         3   True\n",
       "3       1    0  35.0      1      0  53.1000         3  False\n",
       "4       3    1  35.0      0      0   8.0500         3   True"
      ]
     },
     "execution_count": 6,
     "metadata": {},
     "output_type": "execute_result"
    }
   ],
   "source": [
    "df.head()"
   ]
  },
  {
   "cell_type": "code",
   "execution_count": 7,
   "metadata": {},
   "outputs": [],
   "source": [
    "# Take a hold out set randomly\n",
    "X_train, X_test, y_train, y_test = train_test_split(df, y, test_size=0.2, random_state=42)\n",
    "\n",
    "# Create an LGBM dataset for training\n",
    "categorical_features = ['Alone', 'Sex', 'Pclass', 'Embarked']\n",
    "train_data = lgbm.Dataset(data=X_train, label=y_train, categorical_feature=categorical_features, free_raw_data=False)\n",
    "\n",
    "# Create an LGBM dataset from the test\n",
    "test_data = lgbm.Dataset(data=X_test, label=y_test, categorical_feature=categorical_features, free_raw_data=False)\n",
    "\n",
    "# Finally, create a dataset for the FULL training data to give us maximum amount of data to train on after \n",
    "# performance has been calibrate\n",
    "# final_train_set = lgbm.Dataset(data=df, label=y, categorical_feature=categorical_features, free_raw_data=False)"
   ]
  },
  {
   "cell_type": "code",
   "execution_count": 8,
   "metadata": {},
   "outputs": [],
   "source": [
    "lgbm_params = {\n",
    "    'boosting': 'dart',          # dart (drop out trees) often performs better\n",
    "    'application': 'binary',     # Binary classification\n",
    "    'learning_rate': 0.05,       # Learning rate, controls size of a gradient descent step\n",
    "    'min_data_in_leaf': 20,      # Data set is quite small so reduce this a bit\n",
    "    'feature_fraction': 0.7,     # Proportion of features in each boost, controls overfitting\n",
    "    'num_leaves': 41,            # Controls size of tree since LGBM uses leaf wise splits\n",
    "    'metric': 'binary_logloss',  # Area under ROC curve as the evaulation metric\n",
    "    'drop_rate': 0.15\n",
    "}"
   ]
  },
  {
   "cell_type": "code",
   "execution_count": 9,
   "metadata": {},
   "outputs": [],
   "source": [
    "def azure_ml_callback(run):\n",
    "    def callback(env):\n",
    "        if env.evaluation_result_list:\n",
    "            run.log('iteration', env.iteration + 1)\n",
    "            for data_name, eval_name, result, _ in env.evaluation_result_list:\n",
    "                run.log(\"%s (%s)\" % (eval_name, data_name), result)\n",
    "    callback.order = 10\n",
    "    return callback"
   ]
  },
  {
   "cell_type": "code",
   "execution_count": 10,
   "metadata": {},
   "outputs": [],
   "source": [
    "import seaborn as sns\n",
    "import matplotlib.pyplot as plt\n",
    "from sklearn.externals import joblib\n",
    "\n",
    "sns.set(style=\"ticks\")\n",
    "\n",
    "def log_metrics(clf, X_test, y_test, run):\n",
    "    preds = np.round(clf.predict(X_test))\n",
    "    run.log(\"accuracy (test)\", accuracy_score(y_test, preds))\n",
    "    run.log(\"precision (test)\", precision_score(y_test, preds))\n",
    "    run.log(\"recall (test)\", recall_score(y_test, preds))\n",
    "    run.log(\"f1 (test)\", f1_score(y_test, preds))\n",
    "\n",
    "def log_importance(clf, run, figsize=(9, 5)):\n",
    "    fig, ax = plt.subplots(1, 1, figsize=figsize)\n",
    "    lgbm.plot_importance(clf, ax=ax)\n",
    "    run.log_image(\"feature importance\", plot=fig)\n",
    "    \n",
    "def register_model(model, run):\n",
    "    output_dir = './outputs'\n",
    "    model_file_name = 'ligbm_titanic.pkl'\n",
    "    model_file_path = os.path.join(output_dir, model_file_name)\n",
    "    joblib.dump(value=model, filename=model_file_path)\n",
    "    run.upload_file('ligbm_titanic.pkl', model_file_path)\n",
    "    return run.register_model(model_name=model_file_name, model_path=model_file_name)"
   ]
  },
  {
   "cell_type": "code",
   "execution_count": 11,
   "metadata": {},
   "outputs": [
    {
     "name": "stderr",
     "output_type": "stream",
     "text": [
      "/anaconda/envs/azureml_py36/lib/python3.6/site-packages/lightgbm/basic.py:1243: UserWarning: Using categorical_feature in Dataset.\n",
      "  warnings.warn('Using categorical_feature in Dataset.')\n",
      "/anaconda/envs/azureml_py36/lib/python3.6/site-packages/lightgbm/callback.py:192: UserWarning: Early stopping is not available in dart mode\n",
      "  warnings.warn('Early stopping is not available in dart mode')\n"
     ]
    },
    {
     "name": "stdout",
     "output_type": "stream",
     "text": [
      "[20]\ttrain's binary_logloss: 0.484521\tval's binary_logloss: 0.522339\n",
      "[40]\ttrain's binary_logloss: 0.410856\tval's binary_logloss: 0.463994\n",
      "[60]\ttrain's binary_logloss: 0.395753\tval's binary_logloss: 0.451297\n",
      "[80]\ttrain's binary_logloss: 0.378427\tval's binary_logloss: 0.436572\n",
      "[100]\ttrain's binary_logloss: 0.372658\tval's binary_logloss: 0.435394\n",
      "[120]\ttrain's binary_logloss: 0.362455\tval's binary_logloss: 0.433125\n",
      "[140]\ttrain's binary_logloss: 0.34874\tval's binary_logloss: 0.427022\n",
      "[160]\ttrain's binary_logloss: 0.351877\tval's binary_logloss: 0.430775\n",
      "[180]\ttrain's binary_logloss: 0.33134\tval's binary_logloss: 0.4193\n",
      "[200]\ttrain's binary_logloss: 0.317624\tval's binary_logloss: 0.416094\n",
      "[220]\ttrain's binary_logloss: 0.310303\tval's binary_logloss: 0.41499\n",
      "[240]\ttrain's binary_logloss: 0.298854\tval's binary_logloss: 0.413326\n",
      "[260]\ttrain's binary_logloss: 0.29089\tval's binary_logloss: 0.41055\n",
      "[280]\ttrain's binary_logloss: 0.282528\tval's binary_logloss: 0.410674\n",
      "[300]\ttrain's binary_logloss: 0.278759\tval's binary_logloss: 0.412489\n",
      "[320]\ttrain's binary_logloss: 0.274029\tval's binary_logloss: 0.413497\n",
      "[340]\ttrain's binary_logloss: 0.271305\tval's binary_logloss: 0.412075\n",
      "[360]\ttrain's binary_logloss: 0.275302\tval's binary_logloss: 0.412785\n",
      "[380]\ttrain's binary_logloss: 0.268509\tval's binary_logloss: 0.414806\n",
      "[400]\ttrain's binary_logloss: 0.262349\tval's binary_logloss: 0.416066\n",
      "[420]\ttrain's binary_logloss: 0.256041\tval's binary_logloss: 0.413881\n",
      "[440]\ttrain's binary_logloss: 0.249857\tval's binary_logloss: 0.421049\n",
      "[460]\ttrain's binary_logloss: 0.246002\tval's binary_logloss: 0.425848\n",
      "[480]\ttrain's binary_logloss: 0.233838\tval's binary_logloss: 0.433034\n",
      "[500]\ttrain's binary_logloss: 0.232725\tval's binary_logloss: 0.43307\n"
     ]
    },
    {
     "data": {
      "image/png": "[encoded data removed]",
      "text/plain": [
       "<Figure size 648x360 with 1 Axes>"
      ]
     },
     "metadata": {},
     "output_type": "display_data"
    }
   ],
   "source": [
    "evaluation_results = {}\n",
    "\n",
    "with exp.start_logging() as run:\n",
    "    clf = lgbm.train(train_set=train_data,\n",
    "                 params=lgbm_params,\n",
    "                 valid_sets=[train_data, test_data], \n",
    "                 valid_names=['train', 'val'],\n",
    "                 evals_result=evaluation_results,\n",
    "                 num_boost_round=500,\n",
    "                 early_stopping_rounds=100,\n",
    "                 verbose_eval=20,\n",
    "                 callbacks = [azure_ml_callback(run)]\n",
    "                )\n",
    "    \n",
    "    log_metrics(clf, X_test, y_test, run)\n",
    "    log_importance(clf, run)\n",
    "    register_model(clf, run)\n",
    "    \n",
    "optimum_boost_rounds = clf.best_iteration"
   ]
  },
  {
   "cell_type": "code",
   "execution_count": null,
   "metadata": {},
   "outputs": [],
   "source": []
  }
 ],
 "metadata": {
  "kernelspec": {
   "display_name": "Python 3.6 - AzureML",
   "language": "python",
   "name": "python3-azureml"
  },
  "language_info": {
   "codemirror_mode": {
    "name": "ipython",
    "version": 3
   },
   "file_extension": ".py",
   "mimetype": "text/x-python",
   "name": "python",
   "nbconvert_exporter": "python",
   "pygments_lexer": "ipython3",
   "version": "3.6.9"
  }
 },
 "nbformat": 4,
 "nbformat_minor": 4
}
