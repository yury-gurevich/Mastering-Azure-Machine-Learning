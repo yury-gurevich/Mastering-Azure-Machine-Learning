{
 "cells": [
  {
   "cell_type": "code",
   "execution_count": 1,
   "metadata": {},
   "outputs": [
    {
     "name": "stderr",
     "output_type": "stream",
     "text": [
      "[nltk_data] Downloading package punkt to /home/azureuser/nltk_data...\n",
      "[nltk_data]   Package punkt is already up-to-date!\n"
     ]
    }
   ],
   "source": [
    "import nltk\n",
    "from nltk.tokenize import word_tokenize\n",
    "nltk.download('punkt')\n",
    "\n",
    "document = \"Almost before we knew it, we had left the ground. The unknown holds its grounds.\"\n",
    "words = word_tokenize(document)"
   ]
  },
  {
   "cell_type": "code",
   "execution_count": 2,
   "metadata": {},
   "outputs": [],
   "source": [
    "from gensim.test.utils import common_texts\n",
    "from gensim.models import Word2Vec\n",
    "\n",
    "model = Word2Vec(common_texts, size=100, window=5, min_count=1, workers=4)\n",
    "model.save(\"word2vec.model\")"
   ]
  },
  {
   "cell_type": "code",
   "execution_count": 3,
   "metadata": {},
   "outputs": [
    {
     "data": {
      "text/plain": [
       "array([ 1.9774411e-03,  2.2904249e-03,  3.5071795e-04, -3.1516273e-03,\n",
       "       -2.9400314e-04,  2.2245380e-03, -2.1723264e-03,  8.1412221e-04,\n",
       "        2.9838423e-03,  4.3055606e-03, -2.6555124e-03,  1.5536546e-03,\n",
       "       -4.3481276e-03, -8.1260572e-04,  3.3369529e-04, -4.8078173e-03,\n",
       "       -4.8387242e-03, -3.7204607e-03,  3.3380019e-03, -3.5762258e-03,\n",
       "        4.4796504e-03, -1.1373333e-03, -1.3311598e-03,  4.3706172e-03,\n",
       "       -3.7637972e-03,  2.9590710e-03, -1.4322525e-03, -2.0373613e-03,\n",
       "        4.8135367e-04, -2.7083571e-03,  2.5816900e-03, -3.4002620e-03,\n",
       "        1.3443682e-03,  2.2372147e-03, -4.9781515e-03, -3.4560345e-03,\n",
       "       -4.9998784e-03, -4.3443898e-03,  3.7806486e-03, -1.4412468e-03,\n",
       "        3.4121003e-03,  2.2294878e-03,  5.6944572e-04,  1.9822600e-03,\n",
       "        1.6988911e-03, -2.4962858e-03, -4.4961465e-03,  2.1202830e-03,\n",
       "       -2.4118873e-03,  2.1624411e-03,  4.5080758e-03, -4.1531946e-04,\n",
       "       -1.5294563e-03,  2.0263942e-03,  2.5381036e-03,  4.7241040e-03,\n",
       "       -4.1360692e-03,  6.7450124e-04,  4.5873709e-03,  1.8490945e-03,\n",
       "        4.6575316e-03, -1.3173085e-03,  4.3875347e-03,  2.1296968e-03,\n",
       "       -2.1207253e-03, -3.7122357e-03, -4.2743944e-03,  4.7761751e-03,\n",
       "       -4.0020066e-04,  3.4401487e-04,  3.7739840e-03, -4.3695108e-03,\n",
       "        3.4927304e-03,  3.7703761e-03,  2.6838540e-03,  3.7346156e-03,\n",
       "        3.3475338e-03, -3.4452458e-03,  2.7138949e-03,  3.4608570e-04,\n",
       "       -3.0435736e-03, -3.3981737e-03,  4.7671730e-03, -3.4261451e-03,\n",
       "       -2.3179404e-03, -4.8774094e-03,  2.5165617e-03,  1.9780376e-03,\n",
       "        1.9326090e-03,  4.8547622e-04,  3.2228623e-03,  4.3785940e-03,\n",
       "        3.4395086e-03, -7.6429533e-05,  4.8477966e-03,  3.6501444e-03,\n",
       "        2.8186769e-03,  5.8245118e-04, -1.5576466e-03, -1.2323841e-03],\n",
       "      dtype=float32)"
      ]
     },
     "execution_count": 3,
     "metadata": {},
     "output_type": "execute_result"
    }
   ],
   "source": [
    "model.train(words, total_examples=1, epochs=10)\n",
    "vector = model.wv['computer']\n",
    "vector"
   ]
  },
  {
   "cell_type": "code",
   "execution_count": 4,
   "metadata": {},
   "outputs": [
    {
     "data": {
      "text/plain": [
       "array([0., 0., 0., 0., 0., 0., 0., 0., 0., 0., 0., 0., 0., 0., 0., 0., 0.,\n",
       "       0., 0., 0., 0., 0., 0., 0., 0., 0., 0., 0., 0., 0., 0., 0., 0., 0.,\n",
       "       0., 0., 0., 0., 0., 0., 0., 0., 0., 0., 0., 0., 0., 0., 0., 0., 0.,\n",
       "       0., 0., 0., 0., 0., 0., 0., 0., 0., 0., 0., 0., 0., 0., 0., 0., 0.,\n",
       "       0., 0., 0., 0., 0., 0., 0., 0., 0., 0., 0., 0., 0., 0., 0., 0., 0.,\n",
       "       0., 0., 0., 0., 0., 0., 0., 0., 0., 0., 0., 0., 0., 0., 0.])"
      ]
     },
     "execution_count": 4,
     "metadata": {},
     "output_type": "execute_result"
    }
   ],
   "source": [
    "import numpy as np\n",
    "dim = len(model.wv.vectors[0])\n",
    "X = np.mean([model.wv[w] for w in words if w in model.wv] or [np.zeros(dim)], axis=0)\n",
    "X"
   ]
  },
  {
   "cell_type": "code",
   "execution_count": 5,
   "metadata": {},
   "outputs": [
    {
     "name": "stdout",
     "output_type": "stream",
     "text": [
      "--2020-04-27 07:01:34--  http://nlp.stanford.edu/data/glove.6B.zip\n",
      "Resolving nlp.stanford.edu (nlp.stanford.edu)... 171.64.67.140\n",
      "Connecting to nlp.stanford.edu (nlp.stanford.edu)|171.64.67.140|:80... connected.\n",
      "HTTP request sent, awaiting response... 302 Found\n",
      "Location: https://nlp.stanford.edu/data/glove.6B.zip [following]\n",
      "--2020-04-27 07:01:34--  https://nlp.stanford.edu/data/glove.6B.zip\n",
      "Connecting to nlp.stanford.edu (nlp.stanford.edu)|171.64.67.140|:443... connected.\n",
      "HTTP request sent, awaiting response... 301 Moved Permanently\n",
      "Location: http://downloads.cs.stanford.edu/nlp/data/glove.6B.zip [following]\n",
      "--2020-04-27 07:01:35--  http://downloads.cs.stanford.edu/nlp/data/glove.6B.zip\n",
      "Resolving downloads.cs.stanford.edu (downloads.cs.stanford.edu)... 171.64.64.22\n",
      "Connecting to downloads.cs.stanford.edu (downloads.cs.stanford.edu)|171.64.64.22|:80... connected.\n",
      "HTTP request sent, awaiting response... 200 OK\n",
      "Length: 862182613 (822M) [application/zip]\n",
      "Saving to: ‘glove.6B.zip’\n",
      "\n",
      "glove.6B.zip        100%[===================>] 822.24M  1.92MB/s    in 6m 31s  \n",
      "\n",
      "2020-04-27 07:08:07 (2.10 MB/s) - ‘glove.6B.zip’ saved [862182613/862182613]\n",
      "\n"
     ]
    }
   ],
   "source": [
    "!wget http://nlp.stanford.edu/data/glove.6B.zip"
   ]
  },
  {
   "cell_type": "code",
   "execution_count": 6,
   "metadata": {},
   "outputs": [
    {
     "name": "stdout",
     "output_type": "stream",
     "text": [
      "Archive:  glove.6B.zip\n",
      "  inflating: glove.6B.50d.txt        \n",
      "  inflating: glove.6B.100d.txt       \n",
      "  inflating: glove.6B.200d.txt       \n",
      "  inflating: glove.6B.300d.txt       \n"
     ]
    }
   ],
   "source": [
    "!unzip glove.6B.zip"
   ]
  },
  {
   "cell_type": "code",
   "execution_count": 7,
   "metadata": {},
   "outputs": [],
   "source": [
    "# download pre-trained dictionary from\n",
    "# http://nlp.stanford.edu/data/glove.6B.zip\n",
    "glove = {}\n",
    "with open('glove.6B.100d.txt') as f:\n",
    "    for line in f:\n",
    "        word, coefs = line.split(maxsplit=1)\n",
    "        coefs = np.fromstring(coefs, 'f', sep=' ')\n",
    "        glove[word] = coefs"
   ]
  },
  {
   "cell_type": "code",
   "execution_count": 8,
   "metadata": {},
   "outputs": [
    {
     "data": {
      "text/plain": [
       "array([-0.02214288,  0.13323554,  0.42182863, -0.21241531, -0.24182692,\n",
       "        0.10815544, -0.03382993,  0.21682625,  0.03170187, -0.01059731,\n",
       "        0.3502211 ,  0.04510282,  0.43704262,  0.02482699,  0.14885199,\n",
       "       -0.36020476,  0.12176169,  0.17731126, -0.49486253,  0.1112112 ,\n",
       "        0.23972574,  0.01573795,  0.34841436, -0.07068056,  0.23785414,\n",
       "       -0.05473639, -0.1512487 , -0.44285244,  0.02944756, -0.17841037,\n",
       "       -0.05809868,  0.45183936, -0.09965506,  0.15062287, -0.04556245,\n",
       "        0.15870292,  0.03015989,  0.31992587, -0.09309275, -0.24351062,\n",
       "       -0.45814067, -0.28819084,  0.3615156 , -0.3137692 ,  0.00398818,\n",
       "       -0.07265243,  0.31621274, -0.3198654 , -0.10144857, -0.6580169 ,\n",
       "        0.13995756, -0.12287168,  0.18754566,  1.1996375 , -0.30202413,\n",
       "       -2.5061686 , -0.18187013, -0.3012405 ,  1.5760057 ,  0.7284522 ,\n",
       "       -0.16170405,  0.7219055 , -0.12360969,  0.14030151,  0.79812574,\n",
       "       -0.18173608,  0.4080983 ,  0.28679436,  0.081286  , -0.0593407 ,\n",
       "       -0.06841443, -0.29091245,  0.00763456, -0.47672063,  0.19502984,\n",
       "       -0.03353868, -0.13419601, -0.04424638, -0.94633883,  0.14136438,\n",
       "        0.54885876, -0.00507544, -0.5012137 ,  0.16919437, -1.1655135 ,\n",
       "       -0.37256187,  0.10736455, -0.10676163, -0.17959368, -0.1299337 ,\n",
       "       -0.11104263, -0.3923682 , -0.02472013,  0.35211462, -0.6625793 ,\n",
       "        0.07269773, -0.29071775, -0.16004595,  0.42392397,  0.30902398],\n",
       "      dtype=float32)"
      ]
     },
     "execution_count": 8,
     "metadata": {},
     "output_type": "execute_result"
    }
   ],
   "source": [
    "X = np.mean([glove[w] for w in words if w in glove] or [np.zeros(dim)], axis=0)\n",
    "X"
   ]
  },
  {
   "cell_type": "code",
   "execution_count": null,
   "metadata": {},
   "outputs": [],
   "source": []
  }
 ],
 "metadata": {
  "kernelspec": {
   "display_name": "Python 3.6 - AzureML",
   "language": "python",
   "name": "python3-azureml"
  },
  "language_info": {
   "codemirror_mode": {
    "name": "ipython",
    "version": 3
   },
   "file_extension": ".py",
   "mimetype": "text/x-python",
   "name": "python",
   "nbconvert_exporter": "python",
   "pygments_lexer": "ipython3",
   "version": "3.6.9"
  }
 },
 "nbformat": 4,
 "nbformat_minor": 4
}
