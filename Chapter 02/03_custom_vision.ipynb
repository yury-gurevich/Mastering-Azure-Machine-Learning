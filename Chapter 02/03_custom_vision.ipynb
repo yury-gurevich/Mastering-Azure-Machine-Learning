{
 "cells": [
  {
   "cell_type": "code",
   "execution_count": 1,
   "metadata": {},
   "outputs": [],
   "source": [
    "import requests\n",
    "\n",
    "def cs_custom_vision(img_url, key, project_id, op='detect', iteration_name='Iteration1', region='westus'):\n",
    "    endpoint = 'https://%s.api.cognitive.microsoft.com' % region\n",
    "    baseurl = '%s/customvision/v3.0/Prediction/%s/%s/iterations/%s/url' % (endpoint, project_id, op, iteration_name)\n",
    "    headers = {'Content-Type': 'application/json', 'Prediction-Key': key}\n",
    "    payload = {'Url': img_url}\n",
    "    r = requests.post(baseurl, json=payload, headers=headers)\n",
    "    return r.json()"
   ]
  },
  {
   "cell_type": "code",
   "execution_count": null,
   "metadata": {},
   "outputs": [],
   "source": [
    "url = 'https://..Wood_Plate.jpg'\n",
    "\n",
    "region = '<insert region>'\n",
    "key = '<insert custom vision key>'\n",
    "project_id = '<insert project id>'\n",
    "iteration_name = '<insert iteration name>'\n",
    "\n",
    "res = cs_custom_vision(url, key, project_id, iteration_name=iteration_name, region=region)\n",
    "print(res)"
   ]
  }
 ],
 "metadata": {
  "kernelspec": {
   "display_name": "Python 3.6 - AzureML",
   "language": "python",
   "name": "python3-azureml"
  },
  "language_info": {
   "codemirror_mode": {
    "name": "ipython",
    "version": 3
   },
   "file_extension": ".py",
   "mimetype": "text/x-python",
   "name": "python",
   "nbconvert_exporter": "python",
   "pygments_lexer": "ipython3",
   "version": "3.6.9"
  }
 },
 "nbformat": 4,
 "nbformat_minor": 4
}
