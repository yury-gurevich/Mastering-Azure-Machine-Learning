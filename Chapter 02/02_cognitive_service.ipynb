{
 "cells": [
  {
   "cell_type": "code",
   "execution_count": 9,
   "metadata": {},
   "outputs": [],
   "source": [
    "import requests\n",
    "\n",
    "def cs_vision_analyze(img_url, key, features=['Tags'], region='westus', lang='en'):\n",
    "    endpoint = 'https://%s.api.cognitive.microsoft.com' % region\n",
    "    baseurl = '%s/vision/v2.1/analyze' % endpoint\n",
    "    headers = {'Content-Type': 'application/json', 'Ocp-Apim-Subscription-Key': key}\n",
    "    params = {'visualFeatures': ','.join(features), 'language': lang}\n",
    "    payload = {'url': img_url}\n",
    "    r = requests.post(baseurl, json=payload, params=params, headers=headers)\n",
    "    return r.json()"
   ]
  },
  {
   "cell_type": "code",
   "execution_count": 10,
   "metadata": {},
   "outputs": [
    {
     "output_type": "stream",
     "name": "stdout",
     "text": [
      "{'error': {'code': '401', 'message': 'The Analyze Image Operation under Computer Vision API (v2.1) is not supported with the current subscription key and pricing tier Custom_Vision.Prediction.S0.'}}\n"
     ]
    }
   ],
   "source": [
    "url = 'https://upload.wikimedia.org/wikipedia/commons/thumb/a/a8/Tour_Eiffel_Wikimedia_Commons.jpg/648px-Tour_Eiffel_Wikimedia_Commons.jpg'\n",
    "\n",
    "region =  'eastus'\n",
    "key = 'd24d992f76294452b5ef4daf26c31ca7'\n",
    "\n",
    "features = ['Categories', 'Tags', 'Description']\n",
    "res = cs_vision_analyze(url, key, features=features, region=region)\n",
    "print(res)"
   ]
  },
  {
   "cell_type": "code",
   "execution_count": null,
   "metadata": {},
   "outputs": [],
   "source": [
    "product_image_urls = [url]\n",
    "\n",
    "for url in product_image_urls:\n",
    "    res = cs_vision_analyze(url, key, features=['Description'], region=region)\n",
    "    caption = res['description']['captions'][0]['text']\n",
    "    # now store the caption for each image\n",
    "    print(caption)"
   ]
  },
  {
   "cell_type": "code",
   "execution_count": null,
   "metadata": {},
   "outputs": [],
   "source": []
  }
 ],
 "metadata": {
  "kernelspec": {
   "name": "python3",
   "display_name": "Python 3.8.10 64-bit ('azure-ml')"
  },
  "language_info": {
   "codemirror_mode": {
    "name": "ipython",
    "version": 3
   },
   "file_extension": ".py",
   "mimetype": "text/x-python",
   "name": "python",
   "nbconvert_exporter": "python",
   "pygments_lexer": "ipython3",
   "version": "3.8.10"
  },
  "interpreter": {
   "hash": "fb6d23125f497430cd1c7b6540b35acea253054efa7d886dc2dbe0810f464b33"
  }
 },
 "nbformat": 4,
 "nbformat_minor": 4
}