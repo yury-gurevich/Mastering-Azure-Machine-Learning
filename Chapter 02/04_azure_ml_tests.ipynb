{
 "cells": [
  {
   "cell_type": "code",
   "execution_count": 4,
   "metadata": {},
   "outputs": [],
   "source": [
    "from azureml.core import Workspace, Experiment\n",
    "\n",
    "# Configure workspace and experiment\n",
    "ws = Workspace.from_config()\n",
    "exp = Experiment(workspace=ws, name=\"credit-score-regression\")"
   ]
  },
  {
   "cell_type": "code",
   "execution_count": 5,
   "metadata": {},
   "outputs": [],
   "source": [
    "import random\n",
    "\n",
    "def mock_train(epoch):\n",
    "    return 10 ** (-2 * epoch)\n",
    "\n",
    "def mock_evaluate():\n",
    "    return [random.random(), random.random()]\n",
    "\n",
    "def mock_model(model_name):\n",
    "    with open(model_name, 'w'): pass"
   ]
  },
  {
   "cell_type": "code",
   "execution_count": 6,
   "metadata": {},
   "outputs": [],
   "source": [
    "from azureml.core.model import Model\n",
    "\n",
    "run = exp.start_logging()\n",
    "\n",
    "n_epochs = 10\n",
    "\n",
    "for i in range(1, n_epochs):\n",
    "    # loss = model.train_epoch(...)\n",
    "    loss = mock_train(i)\n",
    "    run.log('loss (train)', loss)\n",
    "\n",
    "# Save model scores\n",
    "# scores = model.evaluate(X_test, y_test, verbose=1)\n",
    "scores = mock_evaluate()\n",
    "run.log('accurcay (test)', scores[1])\n",
    "\n",
    "# Upload the best model\n",
    "model_name = \"model.pkl\"\n",
    "model_path = \"./model.pkl\"\n",
    "mock_model(model_name)\n",
    "run.upload_file(model_name, model_path)\n",
    "\n",
    "# Register the best model\n",
    "run.register_model(model_name, model_path=model_path, model_framework=Model.Framework.TENSORFLOW)\n",
    "\n",
    "run.complete()"
   ]
  },
  {
   "cell_type": "code",
   "execution_count": null,
   "metadata": {},
   "outputs": [],
   "source": []
  }
 ],
 "metadata": {
  "kernelspec": {
   "display_name": "Python 3.6 - AzureML",
   "language": "python",
   "name": "python3-azureml"
  },
  "language_info": {
   "codemirror_mode": {
    "name": "ipython",
    "version": 3
   },
   "file_extension": ".py",
   "mimetype": "text/x-python",
   "name": "python",
   "nbconvert_exporter": "python",
   "pygments_lexer": "ipython3",
   "version": "3.6.9"
  }
 },
 "nbformat": 4,
 "nbformat_minor": 4
}
