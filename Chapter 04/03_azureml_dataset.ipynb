{
 "cells": [
  {
   "cell_type": "markdown",
   "metadata": {},
   "source": [
    "## Register Dataset from Blob"
   ]
  },
  {
   "cell_type": "code",
   "execution_count": null,
   "metadata": {},
   "outputs": [],
   "source": [
    "from azureml.core.authentication import InteractiveLoginAuthentication\n",
    "from azureml.core.workspace import Workspace\n",
    "\n",
    "# Configure workspace\n",
    "auth = InteractiveLoginAuthentication()\n",
    "ws = Workspace.from_config(auth=auth)"
   ]
  },
  {
   "cell_type": "code",
   "execution_count": null,
   "metadata": {},
   "outputs": [],
   "source": [
    "from azureml.core.datastore import Datastore\n",
    "from azureml.core.dataset import Dataset\n",
    "from azureml.data.dataset_type_definitions import FileType\n",
    "\n",
    "dstore_name = 'packtmldemodatastore'\n",
    "ds_dir = \"ml-latest-small\"\n",
    "ds_files = ['movies', 'links', 'ratings', 'tags']\n",
    "\n",
    "# Configure workspace\n",
    "ws = Workspace.from_config()\n",
    "\n",
    "# retrieve the datastore\n",
    "dstore = Datastore.get(ws, dstore_name)\n",
    "\n",
    "for file_name in ds_files:\n",
    "\n",
    "    # create an in-memory Dataset on your local machine\n",
    "    datapath = dstore.path('{}/{}.csv'.format(ds_dir, file_name))\n",
    "    dataset = Dataset.auto_read_files(datapath)\n",
    "\n",
    "    # returns the first 5 rows of the Dataset as a pandas Dataframe.\n",
    "    # dataset.head(5)\n",
    "\n",
    "    # Register the dataset\n",
    "    # file_type=FileType.CSV not yet supported\n",
    "    dataset.register(workspace=ws, name='movielens100k.{}'.format(file_name),\n",
    "        description='Movielens 100k - {} data'.format(file_name), exist_ok=True)\n",
    "\n",
    "# See list of datasets registered in workspace\n",
    "datasets = Dataset.list(ws)\n",
    "for ds in datasets:\n",
    "    print(ds)\n",
    "    print(ds.head(5))\n",
    "    print('---')"
   ]
  },
  {
   "cell_type": "markdown",
   "metadata": {},
   "source": [
    "## Register Dataset from Pandas"
   ]
  },
  {
   "cell_type": "code",
   "execution_count": null,
   "metadata": {},
   "outputs": [],
   "source": [
    "from azureml.core.workspace import Workspace\n",
    "from azureml.core.datastore import Datastore\n",
    "from azureml.core.dataset import Dataset\n",
    "from azureml.data.data_reference import DataReference\n",
    "\n",
    "dstore_name = 'mldemodatastore'\n",
    "ds_dir = \"ml-latest-small\"\n",
    "ds_file = \"movielens100k.movies\"\n",
    "\n",
    "# Configure workspace\n",
    "ws = Workspace.from_config()\n",
    "\n",
    "# Access your dataset\n",
    "dataset = Dataset.get(ws, ds_file)\n",
    "\n",
    "# Load in-memory Dataset to your local machine as pandas dataframe\n",
    "pdDf = dataset.to_pandas_dataframe()\n",
    "print(pdDf.head())\n",
    "\n",
    "# retrieve the datastore\n",
    "dstore = Datastore.get(ws, dstore_name)\n",
    "\n",
    "# create a data reference\n",
    "# important, path needs to be a directory with trailing slash\n",
    "data_ref = DataReference(dstore, path_on_datastore='preprocessed/movies/')\n",
    "\n",
    "# Upload data to datastore dstore in path\n",
    "dataset_tf = Dataset.from_pandas_dataframe(pdDf, path=data_ref)\n",
    "\n",
    "# Register the Pandas DataFrame as Dataset\n",
    "dataset_tf.register(workspace=ws, name=ds_file,\n",
    "    description='Movielens 100k - movies data preprocessed', exist_ok=True)"
   ]
  },
  {
   "cell_type": "markdown",
   "metadata": {},
   "source": [
    "## Dataset to Pandas"
   ]
  },
  {
   "cell_type": "code",
   "execution_count": null,
   "metadata": {},
   "outputs": [],
   "source": [
    "from azureml.core.authentication import AzureCliAuthentication\n",
    "from azureml.core.workspace import Workspace\n",
    "from azureml.core.datastore import Datastore\n",
    "from azureml.core.dataset import Dataset\n",
    "\n",
    "dstore_name = 'mldemodatastore'\n",
    "ds_file = \"movielens100k.movies\"\n",
    "\n",
    "# Configure workspace\n",
    "ws = Workspace.from_config()\n",
    "\n",
    "\n",
    "# Access your dataset\n",
    "dataset = Dataset.get(ws, 'movielens100k.movies')\n",
    "\n",
    "# Profile your dataset\n",
    "print(dataset.get_profile())\n",
    "\n",
    "# Load in-memory Dataset to your local machine as pandas dataframe\n",
    "df = dataset.to_pandas_dataframe()\n",
    "print(df.head())"
   ]
  },
  {
   "cell_type": "code",
   "execution_count": null,
   "metadata": {},
   "outputs": [],
   "source": []
  }
 ],
 "metadata": {
  "kernelspec": {
   "display_name": "Python 3",
   "language": "python",
   "name": "python3"
  },
  "language_info": {
   "codemirror_mode": {
    "name": "ipython",
    "version": 3
   },
   "file_extension": ".py",
   "mimetype": "text/x-python",
   "name": "python",
   "nbconvert_exporter": "python",
   "pygments_lexer": "ipython3",
   "version": "3.6.10"
  }
 },
 "nbformat": 4,
 "nbformat_minor": 4
}
